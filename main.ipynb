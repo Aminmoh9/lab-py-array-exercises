{
 "cells": [
  {
   "cell_type": "markdown",
   "metadata": {},
   "source": [
    "# LAB : Python Array Exercises"
   ]
  },
  {
   "cell_type": "markdown",
   "metadata": {},
   "source": [
    "## Overview"
   ]
  },
  {
   "cell_type": "markdown",
   "metadata": {},
   "source": [
    "This exercise set focuses on various operations and problems related to arrays in Python. Each exercise is categorized by difficulty level, with examples provided for clarity.\n"
   ]
  },
  {
   "cell_type": "markdown",
   "metadata": {},
   "source": [
    "## Instructions\n",
    "\n",
    "- Complete each exercise by writing the appropriate Python code.\n",
    "- Complete your code in a Jupyter Notebook (.ipynb) format.\n",
    "- Submit the link to your forked repository containing the notebook with your implementation.\n",
    "\n",
    "Make sure to follow these steps carefully to ensure proper submission of your work. "
   ]
  },
  {
   "cell_type": "markdown",
   "metadata": {},
   "source": [
    "\n",
    "## Exercises\n"
   ]
  },
  {
   "cell_type": "markdown",
   "metadata": {},
   "source": [
    "\n",
    "1. **Create an Array and Display Items**\n",
    "   - Write a Python program to create an array of 5 integers and display the array items. Access individual elements through indexes.\n",
    "\n",
    "   **Example:**\n",
    "   ```python\n",
    "   # Sample Input\n",
    "   arr =[1, 3, 5, 7, 9]\n",
    "\n",
    "   # Sample Output\n",
    "   1\n",
    "   3\n",
    "   5\n",
    "   7\n",
    "   9\n",
    "   ```\n"
   ]
  },
  {
   "cell_type": "code",
   "execution_count": 6,
   "metadata": {},
   "outputs": [
    {
     "name": "stdout",
     "output_type": "stream",
     "text": [
      "1\n",
      "3\n",
      "5\n",
      "7\n",
      "9\n"
     ]
    }
   ],
   "source": [
    "# Write your code HERE\n",
    "#Creat an array of 5 integers\n",
    "arr= [1,3,5,7,9]\n",
    "\n",
    "#Access and display individual elements through index.\n",
    "print(arr[0])  \n",
    "print(arr[1])  \n",
    "print(arr[2])  \n",
    "print(arr[3])  \n",
    "print(arr[4])"
   ]
  },
  {
   "cell_type": "markdown",
   "metadata": {},
   "source": [
    "\n",
    "2. **Append an Item to the Array**\n",
    "   - Write a Python program to append a new item to the end of the array.\n",
    "\n",
    "   **Example:**\n",
    "   ```python\n",
    "   # Sample Input\n",
    "   arr =  [1, 3, 5, 7, 9]\n",
    "\n",
    "   # Sample Output\n",
    "   Original array: [1, 3, 5, 7, 9]\n",
    "   New array after appending: [1, 3, 5, 7, 9, 11]\n",
    "   ```\n"
   ]
  },
  {
   "cell_type": "code",
   "execution_count": 3,
   "metadata": {},
   "outputs": [
    {
     "name": "stdout",
     "output_type": "stream",
     "text": [
      "Original array: [1, 3, 5, 7, 9]\n",
      "New array after appending: [1, 3, 5, 7, 9, 11]\n"
     ]
    }
   ],
   "source": [
    "# Write your code HERE\n",
    "arr=[1,3,5,7,9]\n",
    "print(\"Original array:\",arr)\n",
    "\n",
    "arr.append(11)\n",
    "\n",
    "print(\"New array after appending:\", arr)\n",
    "\n"
   ]
  },
  {
   "cell_type": "markdown",
   "metadata": {},
   "source": [
    "\n",
    "3. **Reverse the Array**\n",
    "   - Write a Python program to reverse the order of the items in the array.\n",
    "\n",
    "   **Example:**\n",
    "   ```python\n",
    "   # Sample Input\n",
    "   arr = [1, 3, 5, 7, 9]\n",
    "\n",
    "   # Sample Output\n",
    "   Original array:[1, 3, 5, 7, 9]\n",
    "   Reversed array:  [9, 7, 5, 3, 1]\n",
    "   ```\n"
   ]
  },
  {
   "cell_type": "code",
   "execution_count": 9,
   "metadata": {},
   "outputs": [
    {
     "name": "stdout",
     "output_type": "stream",
     "text": [
      "Original array: [1, 3, 5, 7, 9]\n",
      "Reversed array: [9, 7, 5, 3, 1]\n"
     ]
    }
   ],
   "source": [
    "# Write your code HERE\n",
    "arr=[1,3,5,7,9]\n",
    "\n",
    "print(\"Original array:\", arr)\n",
    "\n",
    "arr.reverse()\n",
    "\n",
    "print(\"Reversed array:\", arr)"
   ]
  },
  {
   "cell_type": "markdown",
   "metadata": {},
   "source": [
    "\n",
    "4. **Find the Length of an Array Item**\n",
    "   - Write a Python program to get the length in bytes of one array item in the internal representation.\n",
    "\n",
    "   **Example:**\n",
    "   ```python\n",
    "   # Sample Input\n",
    "   arr = [1, 3, 5, 7, 9]\n",
    "\n",
    "   # Sample Output\n",
    "   Length in bytes of one array item: 4\n",
    "   ```\n"
   ]
  },
  {
   "cell_type": "code",
   "execution_count": 12,
   "metadata": {},
   "outputs": [
    {
     "name": "stdout",
     "output_type": "stream",
     "text": [
      "Lenght in bytes of one array item: 4\n"
     ]
    }
   ],
   "source": [
    "# Write your code HERE\n",
    "import array\n",
    "\n",
    "#Create an array of type \"i\" (singed integer)\n",
    "arr=array.array('i',[1,3,5,7,9])\n",
    "#Get the item size in bytes\n",
    "item_size=arr.itemsize\n",
    "\n",
    "print(\"Lenght in bytes of one array item:\", item_size)\n"
   ]
  },
  {
   "cell_type": "markdown",
   "metadata": {},
   "source": [
    "\n",
    "5. **Remove an Item by Index**\n",
    "   - Write a Python program to remove a specified item using the index of an array.\n",
    "\n",
    "   **Example:**\n",
    "   ```python\n",
    "   # Sample Input\n",
    "   arr = [1, 3, 5, 7, 9]\n",
    "\n",
    "   # Sample Output\n",
    "   Original array: [1, 3, 5, 7, 9]\n",
    "   New array after removing index 2: [1, 3, 7, 9]\n",
    "   ```\n"
   ]
  },
  {
   "cell_type": "code",
   "execution_count": 14,
   "metadata": {},
   "outputs": [
    {
     "name": "stdout",
     "output_type": "stream",
     "text": [
      "Original array: [1, 3, 5, 7, 9]\n",
      "New array after removing index 2: [1, 3, 7, 9]\n"
     ]
    }
   ],
   "source": [
    "# Write your code HERE\n",
    "arr=[1,3,5,7,9]\n",
    "print(\"Original array:\",arr)\n",
    "\n",
    "arr.pop(2)\n",
    "\n",
    "print(\"New array after removing index 2:\", arr)"
   ]
  },
  {
   "cell_type": "markdown",
   "metadata": {},
   "source": [
    "\n",
    "6. **Remove First Occurrence of an Element**\n",
    "   - Write a Python program to remove the first occurrence of a specified element from an array.\n",
    "\n",
    "   **Example:**\n",
    "   ```python\n",
    "   # Sample Input\n",
    "   arr = [1, 3, 5, 3, 7]\n",
    "\n",
    "   # Sample Output\n",
    "   Original array: [1, 3, 5, 3, 7]\n",
    "   New array after removing first occurrence of '3': [1, 5, 3, 7]\n",
    "   ```\n"
   ]
  },
  {
   "cell_type": "code",
   "execution_count": 36,
   "metadata": {},
   "outputs": [
    {
     "name": "stdout",
     "output_type": "stream",
     "text": [
      "Original array: [1, 3, 5, 3, 7]\n",
      "New array after removing first occurence of 3: [1, 5, 3, 7]\n"
     ]
    }
   ],
   "source": [
    "# Write your code HERE\n",
    "arr=[1,3,5,3,7]\n",
    "print(\"Original array:\",arr)\n",
    "\n",
    "arr.remove(3)\n",
    "\n",
    "print(\"New array after removing first occurence of 3:\", arr)\n"
   ]
  },
  {
   "cell_type": "markdown",
   "metadata": {},
   "source": [
    "\n",
    "7. **Convert Array to List**\n",
    "    - Write a Python program to convert an array to an ordinary list with the same items.\n",
    "\n",
    "    **Example:**\n",
    "    ```python\n",
    "    # Sample Input\n",
    "    arr = [1, 2, 3]\n",
    "\n",
    "    # Sample Output\n",
    "    Converted list: [1, 2, 3]\n",
    "    ```\n"
   ]
  },
  {
   "cell_type": "code",
   "execution_count": 30,
   "metadata": {},
   "outputs": [
    {
     "name": "stdout",
     "output_type": "stream",
     "text": [
      "Converted list: [1, 2, 3]\n"
     ]
    }
   ],
   "source": [
    "# Write your code HERE\n",
    "#Usin an array from array module , i means integer type\n",
    "arr = array.array('i', [1, 2, 3]) \n",
    "\n",
    "#Convert array to list\n",
    "converted_list=arr.tolist()\n",
    "\n",
    "print(\"Converted list:\", converted_list)"
   ]
  },
  {
   "cell_type": "markdown",
   "metadata": {},
   "source": [
    "\n",
    "8. **Check for Duplicates in Array**\n",
    "    - Write a Python program to find out if a given array of integers contains any duplicate elements.\n",
    "\n",
    "    **Example:**\n",
    "    ```python\n",
    "    # Sample Input\n",
    "    arr = [1,2,3,4]\n",
    "\n",
    "    # Sample Output\n",
    "    Contains duplicates: False\n",
    "\n",
    "    arr = [1,2,2]\n",
    "\n",
    "    Contains duplicates: True\n",
    "    ```\n"
   ]
  },
  {
   "cell_type": "code",
   "execution_count": 26,
   "metadata": {},
   "outputs": [
    {
     "name": "stdout",
     "output_type": "stream",
     "text": [
      "Contains duplicates: False\n",
      "Contains duplicates: True\n"
     ]
    }
   ],
   "source": [
    "# Write your code HERE\n",
    "\n",
    "def check_duplicates(arr):\n",
    "    if len(arr) != len(set(arr)):\n",
    "        return True\n",
    "    else:\n",
    "        return False\n",
    "    \n",
    "arr= [1,2,3,4]\n",
    "print(\"Contains duplicates:\", check_duplicates(arr))\n",
    "\n",
    "arr1=[1,2,2]\n",
    "print(\"Contains duplicates:\", check_duplicates(arr1))"
   ]
  },
  {
   "cell_type": "markdown",
   "metadata": {},
   "source": [
    "## Advanced Exercises\n"
   ]
  },
  {
   "cell_type": "markdown",
   "metadata": {},
   "source": [
    "\n",
    "1. **Find Maximum and Minimum in an Array**\n",
    "    - Write a Python program to find the maximum and minimum values in an integer array.\n",
    "\n",
    "    **Example:**\n",
    "    ```python\n",
    "    # Sample Input\n",
    "    arr = [10, -2, -30 ,4 ,100 ,50]\n",
    "\n",
    "    # Sample Output\n",
    "    Maximum value:100\n",
    "    Minimum value:-30\n",
    "    ```\n"
   ]
  },
  {
   "cell_type": "code",
   "execution_count": 27,
   "metadata": {},
   "outputs": [
    {
     "name": "stdout",
     "output_type": "stream",
     "text": [
      "Maximum value: 100\n",
      "Minumum value: -30\n"
     ]
    }
   ],
   "source": [
    "# Write your code HERE\n",
    "arr=[10,-2, -30, 4, 100, 50]\n",
    "\n",
    "max_value= max(arr)\n",
    "min_value= min(arr)\n",
    "\n",
    "print(\"Maximum value:\", max_value)\n",
    "print(\"Minumum value:\", min_value)"
   ]
  },
  {
   "cell_type": "markdown",
   "metadata": {},
   "source": [
    "\n",
    "2. **Count Even and Odd Numbers in an Array**\n",
    "    - Write a Python program to count how many even and odd numbers are present in an integer array.\n",
    "\n",
    "    **Example:**\n",
    "    ```python\n",
    "    # Sample Input\n",
    "    arr = [10 ,21 ,32 ,43 ,54 ,65 ,76 ,87]\n",
    "\n",
    "    # Sample Output\n",
    "    Even count:4\n",
    "    Odd count:4\n",
    "    ```\n"
   ]
  },
  {
   "cell_type": "code",
   "execution_count": 29,
   "metadata": {},
   "outputs": [
    {
     "name": "stdout",
     "output_type": "stream",
     "text": [
      "Even count: 4\n",
      "Odd count: 4\n"
     ]
    }
   ],
   "source": [
    "# Write your code HERE\n",
    "arr = [10 ,21 ,32 ,43 ,54 ,65 ,76 ,87]\n",
    "\n",
    "even_count=0\n",
    "odd_count=0\n",
    "\n",
    "for num in arr:\n",
    "    if num % 2 ==0:\n",
    "        even_count+=1\n",
    "    else:\n",
    "        odd_count+=1\n",
    "\n",
    "print(\"Even count:\", even_count)\n",
    "print(\"Odd count:\", odd_count)"
   ]
  },
  {
   "cell_type": "markdown",
   "metadata": {},
   "source": [
    "## Bonus Challenges\n"
   ]
  },
  {
   "cell_type": "markdown",
   "metadata": {},
   "source": [
    "\n",
    "1. **Rotate Array Elements**\n",
    "    - Write a Python program to rotate elements of an integer array by `k` positions.\n",
    "\n",
    "    **Example:**\n",
    "    ```python\n",
    "    # Sample Input\n",
    "    arr = [10 ,20 ,30 ,40 ,50]\n",
    "    k =2\n",
    "\n",
    "    # Sample Output\n",
    "    Rotated Array: [30 ,40 ,50 ,10 ,20]\n",
    "    ```\n"
   ]
  },
  {
   "cell_type": "code",
   "execution_count": 32,
   "metadata": {},
   "outputs": [
    {
     "name": "stdout",
     "output_type": "stream",
     "text": [
      "Rotated Array: [30, 40, 50, 10, 20]\n"
     ]
    }
   ],
   "source": [
    "# Write your code HERE\n",
    "arr = [10 ,20 ,30 ,40 ,50]\n",
    "k =2\n",
    "\n",
    "#Rotate array by k positions using slicing method\n",
    "#The part from index k to the end of array\n",
    "#The part from start of the array to index k\n",
    "rotated_array= arr[k:] + arr[:k]\n",
    "\n",
    "print(\"Rotated Array:\", rotated_array)"
   ]
  },
  {
   "cell_type": "markdown",
   "metadata": {},
   "source": [
    "\n",
    "2. **Merge Two Sorted Arrays**\n",
    "     - Write a Python program to merge two sorted arrays into one sorted array.\n",
    "\n",
    "     **Example:**\n",
    "     ```python\n",
    "     # Sample Input\n",
    "     arr1 = [1 ,3 ,5]\n",
    "     arr2 = [2 ,4 ,6]\n",
    "\n",
    "     # Sample Output\n",
    "     Merged Sorted Array: [1 ,2 ,3 ,4 ,5 ,6]\n",
    "     ```\n",
    "\n"
   ]
  },
  {
   "cell_type": "code",
   "execution_count": null,
   "metadata": {},
   "outputs": [
    {
     "name": "stdout",
     "output_type": "stream",
     "text": [
      "Merged Sorted Array: [1, 2, 3, 4, 5, 6]\n"
     ]
    }
   ],
   "source": [
    "# Write your code HERE\n",
    "#Import the heapq module for efficient way of merging two sorted iterables.\n",
    "import heapq\n",
    "arr1 = [1 ,3 ,5]\n",
    "arr2 = [2 ,4 ,6]\n",
    "\n",
    "\n",
    "merged_arr= list(heapq.merge(arr1,arr2))\n",
    "\n",
    "print(\"Merged Sorted Array:\", merged_arr)\n"
   ]
  },
  {
   "cell_type": "markdown",
   "metadata": {},
   "source": [
    "### Exercise Completion\n",
    "Once you have completed all exercises:\n",
    "- Review your solutions.\n",
    "- Ensure your Python code are well-documented with comments explaining your logic.\n",
    "- Save your notebook for submission or further review.\n",
    "\n",
    "Happy coding! Enjoy practicing Arrays in Python!"
   ]
  },
  {
   "cell_type": "markdown",
   "metadata": {},
   "source": []
  }
 ],
 "metadata": {
  "kernelspec": {
   "display_name": "base",
   "language": "python",
   "name": "python3"
  },
  "language_info": {
   "codemirror_mode": {
    "name": "ipython",
    "version": 3
   },
   "file_extension": ".py",
   "mimetype": "text/x-python",
   "name": "python",
   "nbconvert_exporter": "python",
   "pygments_lexer": "ipython3",
   "version": "3.12.7"
  }
 },
 "nbformat": 4,
 "nbformat_minor": 2
}
